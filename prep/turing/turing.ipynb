{
 "cells": [
  {
   "cell_type": "markdown",
   "metadata": {},
   "source": [
    "# Pandas Basics"
   ]
  },
  {
   "cell_type": "code",
   "execution_count": 1,
   "metadata": {},
   "outputs": [],
   "source": [
    "import pandas as pd\n"
   ]
  },
  {
   "cell_type": "code",
   "execution_count": 3,
   "metadata": {},
   "outputs": [
    {
     "data": {
      "text/html": [
       "<div>\n",
       "<style scoped>\n",
       "    .dataframe tbody tr th:only-of-type {\n",
       "        vertical-align: middle;\n",
       "    }\n",
       "\n",
       "    .dataframe tbody tr th {\n",
       "        vertical-align: top;\n",
       "    }\n",
       "\n",
       "    .dataframe thead th {\n",
       "        text-align: right;\n",
       "    }\n",
       "</style>\n",
       "<table border=\"1\" class=\"dataframe\">\n",
       "  <thead>\n",
       "    <tr style=\"text-align: right;\">\n",
       "      <th></th>\n",
       "      <th>Name</th>\n",
       "      <th>Age</th>\n",
       "      <th>City</th>\n",
       "    </tr>\n",
       "  </thead>\n",
       "  <tbody>\n",
       "    <tr>\n",
       "      <th>1</th>\n",
       "      <td>Abhigyan</td>\n",
       "      <td>23</td>\n",
       "      <td>Allahabad</td>\n",
       "    </tr>\n",
       "  </tbody>\n",
       "</table>\n",
       "</div>"
      ],
      "text/plain": [
       "       Name  Age       City\n",
       "1  Abhigyan   23  Allahabad"
      ]
     },
     "execution_count": 3,
     "metadata": {},
     "output_type": "execute_result"
    }
   ],
   "source": [
    "df = pd.DataFrame([['Abhigyan',23,'Allahabad']],columns=['Name','Age','City'],index=[1])\n",
    "df.head()"
   ]
  },
  {
   "cell_type": "code",
   "execution_count": 4,
   "metadata": {},
   "outputs": [],
   "source": [
    "df.loc[2] = ['Rahul',24,'Kanpur']"
   ]
  },
  {
   "cell_type": "code",
   "execution_count": 5,
   "metadata": {},
   "outputs": [
    {
     "data": {
      "text/html": [
       "<div>\n",
       "<style scoped>\n",
       "    .dataframe tbody tr th:only-of-type {\n",
       "        vertical-align: middle;\n",
       "    }\n",
       "\n",
       "    .dataframe tbody tr th {\n",
       "        vertical-align: top;\n",
       "    }\n",
       "\n",
       "    .dataframe thead th {\n",
       "        text-align: right;\n",
       "    }\n",
       "</style>\n",
       "<table border=\"1\" class=\"dataframe\">\n",
       "  <thead>\n",
       "    <tr style=\"text-align: right;\">\n",
       "      <th></th>\n",
       "      <th>Name</th>\n",
       "      <th>Age</th>\n",
       "      <th>City</th>\n",
       "    </tr>\n",
       "  </thead>\n",
       "  <tbody>\n",
       "    <tr>\n",
       "      <th>1</th>\n",
       "      <td>Abhigyan</td>\n",
       "      <td>23</td>\n",
       "      <td>Allahabad</td>\n",
       "    </tr>\n",
       "    <tr>\n",
       "      <th>2</th>\n",
       "      <td>Rahul</td>\n",
       "      <td>24</td>\n",
       "      <td>Kanpur</td>\n",
       "    </tr>\n",
       "  </tbody>\n",
       "</table>\n",
       "</div>"
      ],
      "text/plain": [
       "       Name  Age       City\n",
       "1  Abhigyan   23  Allahabad\n",
       "2     Rahul   24     Kanpur"
      ]
     },
     "execution_count": 5,
     "metadata": {},
     "output_type": "execute_result"
    }
   ],
   "source": [
    "df.head()"
   ]
  },
  {
   "cell_type": "code",
   "execution_count": 14,
   "metadata": {},
   "outputs": [],
   "source": [
    "#task1\n",
    "def neighbourhood_with_highest_median_price_diff(df_listings: pd.DataFrame, df_reviews: pd.DataFrame) -> str:\n",
    "    # Group by neighborhood and superhost status, calculate median prices\n",
    "    grouped = df_listings.groupby(['neighbourhood_cleansed', 'host_is_superhost'])['price'].median().unstack()\n",
    "    \n",
    "    # Calculate price difference (superhost - non-superhost)\n",
    "    # True column is superhost prices, False column is non-superhost prices\n",
    "    price_diff = grouped[True] - grouped[False]\n",
    "    \n",
    "    # Find neighborhood with maximum difference\n",
    "    return price_diff.idxmax()"
   ]
  },
  {
   "cell_type": "code",
   "execution_count": 15,
   "metadata": {},
   "outputs": [],
   "source": [
    "# task2\n",
    "def find_strongest_correlation_with_price(df_listings: pd.DataFrame, df_reviews: pd.DataFrame):\n",
    "    review_score_cols = [col for col in df_listings.columns if 'review_scores' in col]\n",
    "    if 'price' in df_listings.columns:\n",
    "        correlations = df_listings[review_score_cols].corrwith(df_listings['price'])\n",
    "        strongest_corr = correlations.abs().idxmax()\n",
    "        # or \n",
    "        strongest_corr = correlations.abs().sort_values(ascending=False).index[0]\n",
    "        return strongest_corr\n",
    "    else:\n",
    "        raise ValueError(\"The 'price' column is not present in the df_listings DataFrame.\")\n"
   ]
  },
  {
   "cell_type": "code",
   "execution_count": 16,
   "metadata": {},
   "outputs": [],
   "source": [
    "#task3\n",
    "def calculate_professional_host_price_difference(df_listings: pd.DataFrame, df_reviews: pd.DataFrame) -> float:\n",
    "    # Count unique neighborhoods per host\n",
    "    locations_per_host = df_listings.groupby('host_id')['neighbourhood_cleansed'].nunique()\n",
    "    \n",
    "    # Identify professional hosts (more than 5 locations)\n",
    "    professional_hosts = locations_per_host[locations_per_host > 5].index\n",
    "    \n",
    "    # Create a boolean mask for professional hosts\n",
    "    df_listings['is_professional'] = df_listings['host_id'].isin(professional_hosts)\n",
    "    \n",
    "    # Calculate average price for professional and non-professional hosts\n",
    "    avg_prices = df_listings.groupby('is_professional')['price'].mean()\n",
    "    \n",
    "    # Calculate the difference (professional - non-professional)\n",
    "    price_difference = avg_prices[True] - avg_prices[False]\n",
    "    \n",
    "    return price_difference"
   ]
  },
  {
   "cell_type": "code",
   "execution_count": 17,
   "metadata": {},
   "outputs": [],
   "source": [
    "#task4\n",
    "def calculate_entire_home_price_premium(df_listings: pd.DataFrame, df_reviews: pd.DataFrame) -> float:\n",
    "    # Identify entire homes/apartments, accounting for possible separate categories\n",
    "    entire_property_types = ['Entire home', 'Entire apartment', 'Entire home/apt']\n",
    "    entire_home_mask = df_listings['room_type'].str.contains('|'.join(entire_property_types), case=False)\n",
    "    \n",
    "    # Group by neighborhood and calculate median prices for entire properties vs others\n",
    "    neighborhood_prices = df_listings.groupby(['neighbourhood_cleansed', entire_home_mask])['price'].median().unstack()\n",
    "    \n",
    "    # Calculate premium (difference between entire properties and other types)\n",
    "    # True column is entire properties, False column is other types\n",
    "    price_premiums = neighborhood_prices[True] - neighborhood_prices[False]\n",
    "    \n",
    "    # Calculate average premium across all neighborhoods\n",
    "    average_premium = price_premiums.mean()\n",
    "    \n",
    "    return average_premium"
   ]
  },
  {
   "cell_type": "code",
   "execution_count": 18,
   "metadata": {},
   "outputs": [],
   "source": [
    "#task5\n",
    "def find_best_listing_for_revenue(df_listings: pd.DataFrame, df_reviews: pd.DataFrame) -> int:\n",
    "    # Filter listings with minimum_nights <= 7\n",
    "    eligible_listings = df_listings[df_listings['minimum_nights'] <= 7]\n",
    "    \n",
    "    # Count reviews per listing in the last 12 months\n",
    "    # Assuming reviews DataFrame has a datetime column for the review date\n",
    "    df_reviews['review_date'] = pd.to_datetime(df_reviews['date'])\n",
    "    last_year = df_reviews['review_date'].max() - pd.DateOffset(months=12)\n",
    "    recent_reviews = df_reviews[df_reviews['review_date'] >= last_year]\n",
    "    \n",
    "    # Count reviews per listing\n",
    "    reviews_count = recent_reviews.groupby('listing_id').size().reset_index(name='review_count')\n",
    "    \n",
    "    # Merge review counts with eligible listings\n",
    "    revenue_analysis = eligible_listings.merge(reviews_count, \n",
    "                                             left_on='id', \n",
    "                                             right_on='listing_id', \n",
    "                                             how='left')\n",
    "    \n",
    "    # Fill missing review counts with 0\n",
    "    revenue_analysis['review_count'] = revenue_analysis['review_count'].fillna(0)\n",
    "    \n",
    "    # Calculate estimated bookings (assuming 60% review rate)\n",
    "    revenue_analysis['estimated_bookings'] = revenue_analysis['review_count'] / 0.6\n",
    "    \n",
    "    # Calculate expected revenue\n",
    "    revenue_analysis['expected_revenue'] = revenue_analysis['estimated_bookings'] * revenue_analysis['price']\n",
    "    \n",
    "    # Find listing with highest expected revenue\n",
    "    best_listing = revenue_analysis.loc[revenue_analysis['expected_revenue'].idxmax()]\n",
    "    \n",
    "    return int(best_listing['id'])"
   ]
  },
  {
   "cell_type": "code",
   "execution_count": 19,
   "metadata": {},
   "outputs": [],
   "source": [
    "#task6\n",
    "def get_avg_review_score_difference(df_listings: pd.DataFrame, df_reviews: pd.DataFrame) -> float:\n",
    "    # Group by superhost status and calculate mean review scores\n",
    "    avg_scores = df_listings.groupby('host_is_superhost')['review_scores_rating'].mean()\n",
    "    \n",
    "    # Calculate difference (superhost scores - normal host scores)\n",
    "    score_difference = avg_scores[True] - avg_scores[False]\n",
    "    \n",
    "    return score_difference"
   ]
  },
  {
   "cell_type": "code",
   "execution_count": 22,
   "metadata": {},
   "outputs": [],
   "source": [
    "#task7\n",
    "def get_second_strongest_host_correlation(df_listings: pd.DataFrame, df_reviews: pd.DataFrame) -> str:\n",
    "    # List of host attributes to check\n",
    "    host_attributes = [\n",
    "        'host_since',\n",
    "        'host_listings_count',\n",
    "        'host_identity_verified',\n",
    "        'calculated_host_listings_count',\n",
    "        'host_is_superhost'\n",
    "    ]\n",
    "    \n",
    "    # Calculate correlations between host attributes and number of reviews\n",
    "    correlations = df_listings[host_attributes].corrwith(df_listings['number_of_reviews'])\n",
    "    \n",
    "    # Sort correlations by absolute value to handle both positive and negative correlations\n",
    "    sorted_correlations = correlations.abs().sort_values(ascending=False)\n",
    "    \n",
    "    # Get the second strongest correlation\n",
    "    second_strongest = sorted_correlations.index[1]\n",
    "    \n",
    "    return second_strongest"
   ]
  },
  {
   "cell_type": "code",
   "execution_count": 1,
   "metadata": {
    "vscode": {
     "languageId": "ruby"
    }
   },
   "outputs": [
    {
     "ename": "NameError",
     "evalue": "name 'pd' is not defined",
     "output_type": "error",
     "traceback": [
      "\u001b[0;31m---------------------------------------------------------------------------\u001b[0m",
      "\u001b[0;31mNameError\u001b[0m                                 Traceback (most recent call last)",
      "Cell \u001b[0;32mIn[1], line 2\u001b[0m\n\u001b[1;32m      1\u001b[0m \u001b[38;5;66;03m# Dummy values for df_listings\u001b[39;00m\n\u001b[0;32m----> 2\u001b[0m df_listings \u001b[38;5;241m=\u001b[39m \u001b[43mpd\u001b[49m\u001b[38;5;241m.\u001b[39mDataFrame({\n\u001b[1;32m      3\u001b[0m     \u001b[38;5;124m'\u001b[39m\u001b[38;5;124mroom_type\u001b[39m\u001b[38;5;124m'\u001b[39m: [\u001b[38;5;124m'\u001b[39m\u001b[38;5;124mEntire home\u001b[39m\u001b[38;5;124m'\u001b[39m, \u001b[38;5;124m'\u001b[39m\u001b[38;5;124mPrivate room\u001b[39m\u001b[38;5;124m'\u001b[39m, \u001b[38;5;124m'\u001b[39m\u001b[38;5;124mEntire apartment\u001b[39m\u001b[38;5;124m'\u001b[39m, \u001b[38;5;124m'\u001b[39m\u001b[38;5;124mShared room\u001b[39m\u001b[38;5;124m'\u001b[39m, \u001b[38;5;124m'\u001b[39m\u001b[38;5;124mEntire home/apt\u001b[39m\u001b[38;5;124m'\u001b[39m]\n\u001b[1;32m      4\u001b[0m })\n\u001b[1;32m      6\u001b[0m \u001b[38;5;66;03m# Define entire_property_types and create entire_home_mask\u001b[39;00m\n\u001b[1;32m      7\u001b[0m entire_property_types \u001b[38;5;241m=\u001b[39m [\u001b[38;5;124m'\u001b[39m\u001b[38;5;124mEntire home\u001b[39m\u001b[38;5;124m'\u001b[39m, \u001b[38;5;124m'\u001b[39m\u001b[38;5;124mEntire apartment\u001b[39m\u001b[38;5;124m'\u001b[39m, \u001b[38;5;124m'\u001b[39m\u001b[38;5;124mEntire home/apt\u001b[39m\u001b[38;5;124m'\u001b[39m]\n",
      "\u001b[0;31mNameError\u001b[0m: name 'pd' is not defined"
     ]
    }
   ],
   "source": [
    "# Dummy values for df_listings\n",
    "df_listings = pd.DataFrame({\n",
    "    'room_type': ['Entire home', 'Private room', 'Entire apartment', 'Shared room', 'Entire home/apt']\n",
    "})\n",
    "\n",
    "# Define entire_property_types and create entire_home_mask\n",
    "entire_property_types = ['Entire home', 'Entire apartment', 'Entire home/apt']\n",
    "entire_home_mask = df_listings['room_type'].str.contains('|'.join(entire_property_types), case=False)\n",
    "\n",
    "print(entire_home_mask)"
   ]
  },
  {
   "cell_type": "code",
   "execution_count": null,
   "metadata": {},
   "outputs": [],
   "source": []
  },
  {
   "cell_type": "code",
   "execution_count": null,
   "metadata": {},
   "outputs": [],
   "source": []
  },
  {
   "cell_type": "code",
   "execution_count": null,
   "metadata": {},
   "outputs": [],
   "source": []
  }
 ],
 "metadata": {
  "kernelspec": {
   "display_name": "torch",
   "language": "python",
   "name": "python3"
  },
  "language_info": {
   "codemirror_mode": {
    "name": "ipython",
    "version": 3
   },
   "file_extension": ".py",
   "mimetype": "text/x-python",
   "name": "python",
   "nbconvert_exporter": "python",
   "pygments_lexer": "ipython3",
   "version": "3.11.9"
  }
 },
 "nbformat": 4,
 "nbformat_minor": 2
}
